{
 "cells": [
  {
   "cell_type": "code",
   "execution_count": 64,
   "id": "3267ea3e",
   "metadata": {},
   "outputs": [],
   "source": [
    "import pandas as pd\n",
    "import matplotlib.pyplot as plt\n",
    "from matplotlib.backends.backend_pdf import PdfPages\n",
    "import csv\n",
    "import numpy as np"
   ]
  },
  {
   "cell_type": "code",
   "execution_count": 65,
   "id": "b2d2d78b",
   "metadata": {},
   "outputs": [],
   "source": [
    "p=1\n",
    "log_file_1g='../Experiment Results BS N =200/{}%_1GB Logs.csv'.format(p)\n",
    "log_file_1g_ns='../Experiment Results BD N = 200 no sorting/{}%_1GB Logs.csv'.format(p)"
   ]
  },
  {
   "cell_type": "code",
   "execution_count": 66,
   "id": "b3035911",
   "metadata": {},
   "outputs": [
    {
     "name": "stdout",
     "output_type": "stream",
     "text": [
      "[[1, 100.0, 15.02, 15.72, 69.32, 4.97, 15.72], [2, 90.0, 15.09, 15.72, 64.36, 4.71, 15.72], [3, 100.0, 15.01, 15.65, 64.29, 4.63, 15.65], [4, 100.0, 15.1, 15.67, 78.38, 5.86, 15.67], [5, 90.0, 15.03, 15.67, 83.53, 6.52, 15.67], [6, 100.0, 15.06, 15.61, 74.08, 5.57, 15.61], [7, 100.0, 15.05, 15.5, 68.79, 5.07, 15.5], [8, 90.0, 15.07, 15.54, 76.62, 5.8, 15.54], [9, 100.0, 15.08, 15.57, 75.59, 5.72, 15.57], [10, 90.0, 15.19, 15.61, 64.04, 4.73, 15.61]]\n"
     ]
    }
   ],
   "source": [
    "hit = 0\n",
    "hitlist=[]\n",
    "data =[]\n",
    "FA = 0\n",
    "Rand = 0\n",
    "Total = 0\n",
    "Sample_time = 0\n",
    "Bootstrap_time =0\n",
    "#open the data logs from the experiment\n",
    "with open(log_file_1g, 'r') as file: # B=200\n",
    "    reader = csv.reader(file)\n",
    "    for row in reader:\n",
    "        data.append(row)\n",
    "    chunks = [data[x:x+10] for x in range(1, len(data), 10)]\n",
    "#calculation of necessary fields for drawing the graphs\n",
    "    for a in range(0,10):\n",
    "        hitlist.append([])\n",
    "        for b in range(0,10):\n",
    "            if chunks[a][b][12]=='1':\n",
    "                hit +=1\n",
    "            \n",
    "            FA += float(chunks[a][b][7])\n",
    "            Rand += float(chunks[a][b][8])\n",
    "            Total += float(chunks[a][b][9])\n",
    "            Sample_time =+ float(chunks[a][b][10])\n",
    "            Bootstrap_time += float(chunks[a][b][11])\n",
    "        \n",
    "        hit = hit*100/10\n",
    "        hitlist[a].append(int(chunks[a][b][1]))      \n",
    "        hitlist[a].append(hit)\n",
    "        hitlist[a].append(round(FA,2)) \n",
    "        hitlist[a].append(round(Rand,2)) \n",
    "        hitlist[a].append(round(Total,2))\n",
    "        hitlist[a].append(round(Sample_time,2))\n",
    "        hitlist[a].append(round(Bootstrap_time,2))\n",
    "        hit =0\n",
    "        FA=0\n",
    "        Rand =0\n",
    "        Total=0\n",
    "        Sample_time=0\n",
    "        Bootstrap_time=0\n",
    "    print(hitlist)\n",
    "#put the result in to csv file\n",
    "fields=[\"Query Number\", \"Hit Percentage\", \"File Access Time\", \"Rand Num Gen Time\", \"Other Time\", \"Sampling Time\", \"Bootstrap Time\" ]\n",
    "with open('graphlogs.csv', 'w+', newline='') as file:\n",
    "    writer = csv.writer(file, delimiter =',')\n",
    "    writer.writerow(fields)\n",
    "    for l in range(0,len(hitlist)):\n",
    "        writer.writerow(hitlist[l])"
   ]
  },
  {
   "cell_type": "code",
   "execution_count": 67,
   "id": "50b5aceb",
   "metadata": {},
   "outputs": [
    {
     "name": "stdout",
     "output_type": "stream",
     "text": [
      "[[1, 100.0, 1.72, 2.75, 55.59, 5.06, 2.75], [2, 100.0, 1.74, 2.88, 51.92, 4.49, 2.88], [3, 90.0, 1.75, 2.66, 52.0, 4.55, 2.66], [4, 100.0, 1.84, 2.75, 65.18, 5.95, 2.75], [5, 100.0, 1.73, 2.62, 69.25, 6.45, 2.62], [6, 90.0, 1.72, 2.53, 61.14, 5.55, 2.53], [7, 80.0, 1.69, 2.4, 56.2, 5.07, 2.4], [8, 90.0, 1.66, 2.4, 64.08, 5.7, 2.4], [9, 90.0, 1.76, 2.44, 61.9, 5.59, 2.44], [10, 100.0, 1.63, 2.51, 51.2, 4.67, 2.51]]\n"
     ]
    }
   ],
   "source": [
    "#This part is for the second data logs file\n",
    "hit = 0\n",
    "hitlist=[]\n",
    "data =[]\n",
    "FA = 0\n",
    "Rand = 0\n",
    "Total = 0\n",
    "Sample_time = 0\n",
    "Bootstrap_time =0\n",
    "with open(log_file_1g_ns, 'r') as file:\n",
    "    reader = csv.reader(file)\n",
    "    for row in reader:\n",
    "        data.append(row)\n",
    "\n",
    "    \n",
    "    chunks = [data[x:x+10] for x in range(1, len(data), 10)]\n",
    "    \n",
    "    for a in range(0,10):\n",
    "        hitlist.append([])\n",
    "        for b in range(0,10):\n",
    "            if chunks[a][b][12]=='1':\n",
    "                hit +=1\n",
    "            \n",
    "            FA += float(chunks[a][b][7])\n",
    "            Rand += float(chunks[a][b][8])\n",
    "            Total += float(chunks[a][b][9])\n",
    "            Sample_time =+ float(chunks[a][b][10])\n",
    "            Bootstrap_time += float(chunks[a][b][11])\n",
    "        \n",
    "        hit = hit*100/10\n",
    "        hitlist[a].append(int(chunks[a][b][1]))      \n",
    "        hitlist[a].append(hit)\n",
    "        hitlist[a].append(round(FA,2)) \n",
    "        hitlist[a].append(round(Rand,2)) \n",
    "        hitlist[a].append(round(Total,2))\n",
    "        hitlist[a].append(round(Sample_time,2))\n",
    "        hitlist[a].append(round(Bootstrap_time,2))\n",
    "        hit =0\n",
    "        FA=0\n",
    "        Rand =0\n",
    "        Total=0\n",
    "        Sample_time=0\n",
    "        Bootstrap_time=0\n",
    "    print(hitlist)\n",
    "fields=[\"Query Number\", \"Hit Percentage\", \"File Access Time\", \"Rand Num Gen Time\", \"Other Time\", \"Sampling Time\", \"Bootstrap Time\" ]\n",
    "with open('graphlogs2.csv', 'w+', newline='') as file:\n",
    "    writer = csv.writer(file, delimiter =',')\n",
    "    writer.writerow(fields)\n",
    "    for l in range(0,len(hitlist)):\n",
    "        writer.writerow(hitlist[l])"
   ]
  },
  {
   "cell_type": "code",
   "execution_count": 68,
   "id": "85dec244",
   "metadata": {},
   "outputs": [
    {
     "name": "stdout",
     "output_type": "stream",
     "text": [
      "   File Access Time  Sampling Time  Bootstrap Time  total time\n",
      "0          8.732558       0.982213        5.716364    3.747114\n",
      "1          8.672414       1.048998        5.458333    3.899012\n",
      "2          8.577143       1.017582        5.883459    3.938616\n",
      "3          8.206522       0.984874        5.698182    3.475332\n",
      "4          8.687861       1.010853        5.980916    3.446296\n",
      "5          8.755814       1.003604        6.169960    3.697959\n",
      "6          8.905325       1.000000        6.458333    3.888646\n",
      "7          9.078313       1.017544        6.475000    3.730533\n",
      "8          8.568182       1.023256        6.381148    3.715015\n",
      "9          9.319018       1.012848        6.219124    4.032917\n"
     ]
    }
   ],
   "source": [
    "df = pd.read_csv ('graphlogs.csv')\n",
    "df2 = pd.read_csv ('graphlogs2.csv')\n",
    "df['total time'] = df['File Access Time'] + df['Sampling Time']+ df['Bootstrap Time']\n",
    "df2['total time'] = df2['File Access Time'] + df2['Sampling Time']+ df2['Bootstrap Time']\n",
    "timedf = df.div(df2)\n",
    "newdf = timedf[['File Access Time', 'Sampling Time', 'Bootstrap Time','total time']].copy()\n",
    "print(newdf)"
   ]
  },
  {
   "cell_type": "code",
   "execution_count": 69,
   "id": "db2e3f47",
   "metadata": {},
   "outputs": [
    {
     "data": {
      "image/png": "[encoded data removed]",
      "text/plain": [
       "<Figure size 432x288 with 1 Axes>"
      ]
     },
     "metadata": {
      "needs_background": "light"
     },
     "output_type": "display_data"
    }
   ],
   "source": [
    "bs_figure_file_name='Bootstrap time Perfomance increase of 1GB data {}p.pdf'.format(p)\n",
    "with PdfPages(bs_figure_file_name) as pdf:\n",
    "    graph = newdf[\"Bootstrap Time\"].plot.bar( figsize=(6, 4), color = 'C2')\n",
    "    graph.set_xlabel('query number',fontsize =15)\n",
    "    graph.set_ylabel('speedup ratio',fontsize =15)\n",
    "    for i, v in enumerate(newdf[\"Bootstrap Time\"]):\n",
    "        graph.text(i-.3 , v+0.01 , '%.2f' % float(v))\n",
    "    plt.xticks(rotation=0)\n",
    "    graph.set_xticklabels(np.arange(1,11))\n",
    "    pdf.savefig(bbox_inches='tight')\n",
    "    \n",
    "    "
   ]
  },
  {
   "cell_type": "code",
   "execution_count": 70,
   "id": "40d13151",
   "metadata": {},
   "outputs": [
    {
     "data": {
      "image/png": "[encoded data removed]",
      "text/plain": [
       "<Figure size 432x288 with 1 Axes>"
      ]
     },
     "metadata": {
      "needs_background": "light"
     },
     "output_type": "display_data"
    }
   ],
   "source": [
    "total_figure_file_name='Total time Perfomance increase of 1GB data {}p.pdf'.format(p)\n",
    "with PdfPages(total_figure_file_name) as pdf:\n",
    "    gr = newdf['total time'].plot.bar( figsize=(6, 4))\n",
    "    gr.set_xlabel('query number',fontsize =15)\n",
    "    gr.set_ylabel('speedup ratio',fontsize =15)\n",
    "    for f, j in enumerate(newdf['total time']):\n",
    "        gr.text(f-.3 , j+0.01 , '%.2f' % float(j))\n",
    "    gr.set_xticklabels(np.arange(1,11))\n",
    "    plt.xticks(rotation=0)\n",
    "    pdf.savefig(bbox_inches='tight')"
   ]
  }
 ],
 "metadata": {
  "kernelspec": {
   "display_name": "Python 3 (ipykernel)",
   "language": "python",
   "name": "python3"
  },
  "language_info": {
   "codemirror_mode": {
    "name": "ipython",
    "version": 3
   },
   "file_extension": ".py",
   "mimetype": "text/x-python",
   "name": "python",
   "nbconvert_exporter": "python",
   "pygments_lexer": "ipython3",
   "version": "3.9.6"
  }
 },
 "nbformat": 4,
 "nbformat_minor": 5
}
