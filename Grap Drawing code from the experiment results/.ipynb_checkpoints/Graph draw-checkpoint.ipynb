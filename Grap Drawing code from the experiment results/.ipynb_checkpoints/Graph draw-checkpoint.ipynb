{
 "cells": [
  {
   "cell_type": "code",
   "execution_count": 24,
   "id": "cardiac-bradford",
   "metadata": {},
   "outputs": [
    {
     "name": "stdout",
     "output_type": "stream",
     "text": [
      "[[1, 100.0, 15.02, 15.72, 69.32, 4.97, 15.72], [2, 90.0, 15.09, 15.72, 64.36, 4.71, 15.72], [3, 100.0, 15.01, 15.65, 64.29, 4.63, 15.65], [4, 100.0, 15.1, 15.67, 78.38, 5.86, 15.67], [5, 90.0, 15.03, 15.67, 83.53, 6.52, 15.67], [6, 100.0, 15.06, 15.61, 74.08, 5.57, 15.61], [7, 100.0, 15.05, 15.5, 68.79, 5.07, 15.5], [8, 90.0, 15.07, 15.54, 76.62, 5.8, 15.54], [9, 100.0, 15.08, 15.57, 75.59, 5.72, 15.57], [10, 90.0, 15.19, 15.61, 64.04, 4.73, 15.61]]\n"
     ]
    }
   ],
   "source": [
    "import pandas as pd\n",
    "import matplotlib.pyplot as plt\n",
    "from matplotlib.backends.backend_pdf import PdfPages\n",
    "import csv\n",
    "import numpy as np\n",
    "hit = 0\n",
    "hitlist=[]\n",
    "data =[]\n",
    "FA = 0\n",
    "Rand = 0\n",
    "Total = 0\n",
    "Sample_time = 0\n",
    "Bootstrap_time =0\n",
    "#open the data logs from the experiment\n",
    "with open('1%_1GB Logs.csv', 'r') as file: # B=200\n",
    "    reader = csv.reader(file)\n",
    "    for row in reader:\n",
    "        data.append(row)\n",
    "    chunks = [data[x:x+10] for x in range(1, len(data), 10)]\n",
    "#calculation of necessary fields for drawing the graphs\n",
    "    for a in range(0,10):\n",
    "        hitlist.append([])\n",
    "        for b in range(0,10):\n",
    "            if chunks[a][b][12]=='1':\n",
    "                hit +=1\n",
    "            \n",
    "            FA += float(chunks[a][b][7])\n",
    "            Rand += float(chunks[a][b][8])\n",
    "            Total += float(chunks[a][b][9])\n",
    "            Sample_time =+ float(chunks[a][b][10])\n",
    "            Bootstrap_time += float(chunks[a][b][11])\n",
    "        \n",
    "        hit = hit*100/10\n",
    "        hitlist[a].append(int(chunks[a][b][1]))      \n",
    "        hitlist[a].append(hit)\n",
    "        hitlist[a].append(round(FA,2)) \n",
    "        hitlist[a].append(round(Rand,2)) \n",
    "        hitlist[a].append(round(Total,2))\n",
    "        hitlist[a].append(round(Sample_time,2))\n",
    "        hitlist[a].append(round(Bootstrap_time,2))\n",
    "        hit =0\n",
    "        FA=0\n",
    "        Rand =0\n",
    "        Total=0\n",
    "        Sample_time=0\n",
    "        Bootstrap_time=0\n",
    "    print(hitlist)\n",
    "#put the result in to csv file\n",
    "fields=[\"Query Number\", \"Hit Percentage\", \"File Access Time\", \"Rand Num Gen Time\", \"Other Time\", \"Sampling Time\", \"Bootstrap Time\" ]\n",
    "with open('graphlogs.csv', 'w+', newline='') as file:\n",
    "    writer = csv.writer(file, delimiter =',')\n",
    "    writer.writerow(fields)\n",
    "    for l in range(0,len(hitlist)):\n",
    "        writer.writerow(hitlist[l])\n",
    "        "
   ]
  },
  {
   "cell_type": "code",
   "execution_count": 25,
   "id": "atlantic-surprise",
   "metadata": {},
   "outputs": [
    {
     "name": "stdout",
     "output_type": "stream",
     "text": [
      "[[1, 100.0, 1.72, 2.75, 55.59, 5.06, 2.75], [2, 100.0, 1.74, 2.88, 51.92, 4.49, 2.88], [3, 90.0, 1.75, 2.66, 52.0, 4.55, 2.66], [4, 100.0, 1.84, 2.75, 65.18, 5.95, 2.75], [5, 100.0, 1.73, 2.62, 69.25, 6.45, 2.62], [6, 90.0, 1.72, 2.53, 61.14, 5.55, 2.53], [7, 80.0, 1.69, 2.4, 56.2, 5.07, 2.4], [8, 90.0, 1.66, 2.4, 64.08, 5.7, 2.4], [9, 90.0, 1.76, 2.44, 61.9, 5.59, 2.44], [10, 100.0, 1.63, 2.51, 51.2, 4.67, 2.51]]\n"
     ]
    }
   ],
   "source": [
    "#This part is for the second data logs file\n",
    "hit = 0\n",
    "hitlist=[]\n",
    "data =[]\n",
    "FA = 0\n",
    "Rand = 0\n",
    "Total = 0\n",
    "Sample_time = 0\n",
    "Bootstrap_time =0\n",
    "with open('1%_1GB Logsns.csv', 'r') as file:\n",
    "    reader = csv.reader(file)\n",
    "    for row in reader:\n",
    "        data.append(row)\n",
    "\n",
    "    \n",
    "    chunks = [data[x:x+10] for x in range(1, len(data), 10)]\n",
    "    \n",
    "    for a in range(0,10):\n",
    "        hitlist.append([])\n",
    "        for b in range(0,10):\n",
    "            if chunks[a][b][12]=='1':\n",
    "                hit +=1\n",
    "            \n",
    "            FA += float(chunks[a][b][7])\n",
    "            Rand += float(chunks[a][b][8])\n",
    "            Total += float(chunks[a][b][9])\n",
    "            Sample_time =+ float(chunks[a][b][10])\n",
    "            Bootstrap_time += float(chunks[a][b][11])\n",
    "        \n",
    "        hit = hit*100/10\n",
    "        hitlist[a].append(int(chunks[a][b][1]))      \n",
    "        hitlist[a].append(hit)\n",
    "        hitlist[a].append(round(FA,2)) \n",
    "        hitlist[a].append(round(Rand,2)) \n",
    "        hitlist[a].append(round(Total,2))\n",
    "        hitlist[a].append(round(Sample_time,2))\n",
    "        hitlist[a].append(round(Bootstrap_time,2))\n",
    "        hit =0\n",
    "        FA=0\n",
    "        Rand =0\n",
    "        Total=0\n",
    "        Sample_time=0\n",
    "        Bootstrap_time=0\n",
    "    print(hitlist)\n",
    "fields=[\"Query Number\", \"Hit Percentage\", \"File Access Time\", \"Rand Num Gen Time\", \"Other Time\", \"Sampling Time\", \"Bootstrap Time\" ]\n",
    "with open('graphlogs2.csv', 'w+', newline='') as file:\n",
    "    writer = csv.writer(file, delimiter =',')\n",
    "    writer.writerow(fields)\n",
    "    for l in range(0,len(hitlist)):\n",
    "        writer.writerow(hitlist[l])"
   ]
  },
  {
   "cell_type": "code",
   "execution_count": 26,
   "id": "rational-longitude",
   "metadata": {},
   "outputs": [
    {
     "name": "stdout",
     "output_type": "stream",
     "text": [
      "[[1, 100.0, 179.24, 186.13, 882.85, 58.34, 186.13], [2, 100.0, 178.97, 186.43, 822.61, 49.73, 186.43], [3, 90.0, 179.2, 185.51, 813.92, 50.03, 185.52], [4, 100.0, 179.07, 185.9, 978.36, 68.13, 185.91], [5, 100.0, 178.71, 185.02, 1009.14, 71.07, 185.02], [6, 70.0, 178.59, 184.92, 922.41, 66.16, 184.92], [7, 100.0, 178.63, 183.85, 873.69, 60.58, 183.85], [8, 90.0, 178.71, 183.81, 939.67, 62.99, 183.82], [9, 100.0, 178.93, 184.21, 927.71, 62.95, 184.22], [10, 100.0, 178.87, 184.93, 823.33, 56.52, 184.94]]\n"
     ]
    }
   ],
   "source": [
    "#This part is for the Third data logs file\n",
    "hit = 0\n",
    "hitlist=[]\n",
    "data =[]\n",
    "FA = 0\n",
    "Rand = 0\n",
    "Total = 0\n",
    "Sample_time = 0\n",
    "Bootstrap_time =0\n",
    "with open('1%_10GB Logs.csv', 'r') as file: # B=200\n",
    "    reader = csv.reader(file)\n",
    "    for row in reader:\n",
    "        data.append(row)\n",
    "\n",
    "    \n",
    "    chunks = [data[x:x+10] for x in range(1, len(data), 10)]\n",
    "    \n",
    "    for a in range(0,10):\n",
    "        hitlist.append([])\n",
    "        for b in range(0,10):\n",
    "            if chunks[a][b][12]=='1':\n",
    "                hit +=1\n",
    "            \n",
    "            FA += float(chunks[a][b][7])\n",
    "            Rand += float(chunks[a][b][8])\n",
    "            Total += float(chunks[a][b][9])\n",
    "            Sample_time =+ float(chunks[a][b][10])\n",
    "            Bootstrap_time += float(chunks[a][b][11])\n",
    "        \n",
    "        hit = hit*100/10\n",
    "        hitlist[a].append(int(chunks[a][b][1]))      \n",
    "        hitlist[a].append(hit)\n",
    "        hitlist[a].append(round(FA,2)) \n",
    "        hitlist[a].append(round(Rand,2)) \n",
    "        hitlist[a].append(round(Total,2))\n",
    "        hitlist[a].append(round(Sample_time,2))\n",
    "        hitlist[a].append(round(Bootstrap_time,2))\n",
    "        hit =0\n",
    "        FA=0\n",
    "        Rand =0\n",
    "        Total=0\n",
    "        Sample_time=0\n",
    "        Bootstrap_time=0\n",
    "    print(hitlist)\n",
    "fields=[\"Query Number\", \"Hit Percentage\", \"File Access Time\", \"Rand Num Gen Time\", \"Other Time\", \"Sampling Time\", \"Bootstrap Time\" ]\n",
    "with open('graphlogs3.csv', 'w+', newline='') as file:\n",
    "    writer = csv.writer(file, delimiter =',')\n",
    "    writer.writerow(fields)\n",
    "    for l in range(0,len(hitlist)):\n",
    "        writer.writerow(hitlist[l])"
   ]
  },
  {
   "cell_type": "code",
   "execution_count": 27,
   "id": "looking-vertical",
   "metadata": {},
   "outputs": [
    {
     "name": "stdout",
     "output_type": "stream",
     "text": [
      "   Query Number  Hit Percentage  File Access Time  Rand Num Gen Time  \\\n",
      "0             1           100.0             15.02              15.72   \n",
      "1             2            90.0             15.09              15.72   \n",
      "2             3           100.0             15.01              15.65   \n",
      "3             4           100.0             15.10              15.67   \n",
      "4             5            90.0             15.03              15.67   \n",
      "5             6           100.0             15.06              15.61   \n",
      "6             7           100.0             15.05              15.50   \n",
      "7             8            90.0             15.07              15.54   \n",
      "8             9           100.0             15.08              15.57   \n",
      "9            10            90.0             15.19              15.61   \n",
      "\n",
      "   Other Time  Sampling Time  Bootstrap Time  \n",
      "0       69.32           4.97           15.72  \n",
      "1       64.36           4.71           15.72  \n",
      "2       64.29           4.63           15.65  \n",
      "3       78.38           5.86           15.67  \n",
      "4       83.53           6.52           15.67  \n",
      "5       74.08           5.57           15.61  \n",
      "6       68.79           5.07           15.50  \n",
      "7       76.62           5.80           15.54  \n",
      "8       75.59           5.72           15.57  \n",
      "9       64.04           4.73           15.61  \n"
     ]
    }
   ],
   "source": [
    "#Read the first csv file that was created from the datalogs.\n",
    "df = pd.read_csv ('graphlogs.csv')\n",
    "print(df)"
   ]
  },
  {
   "cell_type": "code",
   "execution_count": 28,
   "id": "broken-liverpool",
   "metadata": {},
   "outputs": [
    {
     "name": "stdout",
     "output_type": "stream",
     "text": [
      "   Query Number  Hit Percentage  File Access Time  Rand Num Gen Time  \\\n",
      "0             1           100.0              1.72               2.75   \n",
      "1             2           100.0              1.74               2.88   \n",
      "2             3            90.0              1.75               2.66   \n",
      "3             4           100.0              1.84               2.75   \n",
      "4             5           100.0              1.73               2.62   \n",
      "5             6            90.0              1.72               2.53   \n",
      "6             7            80.0              1.69               2.40   \n",
      "7             8            90.0              1.66               2.40   \n",
      "8             9            90.0              1.76               2.44   \n",
      "9            10           100.0              1.63               2.51   \n",
      "\n",
      "   Other Time  Sampling Time  Bootstrap Time  \n",
      "0       55.59           5.06            2.75  \n",
      "1       51.92           4.49            2.88  \n",
      "2       52.00           4.55            2.66  \n",
      "3       65.18           5.95            2.75  \n",
      "4       69.25           6.45            2.62  \n",
      "5       61.14           5.55            2.53  \n",
      "6       56.20           5.07            2.40  \n",
      "7       64.08           5.70            2.40  \n",
      "8       61.90           5.59            2.44  \n",
      "9       51.20           4.67            2.51  \n"
     ]
    }
   ],
   "source": [
    "#Read the second csv file that was created from the datalogs.\n",
    "df2 = pd.read_csv ('graphlogs2.csv')\n",
    "print(df2)"
   ]
  },
  {
   "cell_type": "code",
   "execution_count": 29,
   "id": "coated-carroll",
   "metadata": {},
   "outputs": [
    {
     "name": "stdout",
     "output_type": "stream",
     "text": [
      "   Query Number  Hit Percentage  File Access Time  Rand Num Gen Time  \\\n",
      "0             1           100.0            179.24             186.13   \n",
      "1             2           100.0            178.97             186.43   \n",
      "2             3            90.0            179.20             185.51   \n",
      "3             4           100.0            179.07             185.90   \n",
      "4             5           100.0            178.71             185.02   \n",
      "5             6            70.0            178.59             184.92   \n",
      "6             7           100.0            178.63             183.85   \n",
      "7             8            90.0            178.71             183.81   \n",
      "8             9           100.0            178.93             184.21   \n",
      "9            10           100.0            178.87             184.93   \n",
      "\n",
      "   Other Time  Sampling Time  Bootstrap Time  \n",
      "0      882.85          58.34          186.13  \n",
      "1      822.61          49.73          186.43  \n",
      "2      813.92          50.03          185.52  \n",
      "3      978.36          68.13          185.91  \n",
      "4     1009.14          71.07          185.02  \n",
      "5      922.41          66.16          184.92  \n",
      "6      873.69          60.58          183.85  \n",
      "7      939.67          62.99          183.82  \n",
      "8      927.71          62.95          184.22  \n",
      "9      823.33          56.52          184.94  \n"
     ]
    }
   ],
   "source": [
    "df3 = pd.read_csv ('graphlogs3.csv')\n",
    "print(df3)"
   ]
  },
  {
   "cell_type": "code",
   "execution_count": 30,
   "id": "nearby-louisiana",
   "metadata": {},
   "outputs": [
    {
     "data": {
      "image/png": "[encoded data removed]",
      "text/plain": [
       "<Figure size 432x288 with 1 Axes>"
      ]
     },
     "metadata": {
      "needs_background": "light"
     },
     "output_type": "display_data"
    }
   ],
   "source": [
    "with PdfPages('Hit Percentage of 10GB data with N = 200 no sorting.pdf') as pdf:\n",
    "    multidf = pd.concat([df.set_index(\"Query Number\"),df2.set_index(\"Query Number\"),df3.set_index(\"Query Number\")],axis=1)\n",
    "    #print(multidf)\n",
    "    g = multidf[\"Hit Percentage\"].plot.bar( figsize=(6, 4))\n",
    "    plt.xticks(rotation=0)\n",
    "   \n",
    "    h,l= g.get_legend_handles_labels()\n",
    "    kw = dict(ncol=2, loc=\"lower center\", frameon=False) \n",
    "    leg1 = g.legend(['0.1%', '0.5%'], bbox_to_anchor=[0.5,1.08],**kw)\n",
    "    leg2 = g.legend(h[2:],['1%'], bbox_to_anchor=[0.5,1.00],**kw)\n",
    "    g.add_artist(leg1)\n",
    "    #plt.legend(['0.1%', '0.5%', '1%'],bbox_to_anchor=(.3, 1.08), loc='best')\n",
    "    g.set_ylabel('Hit Percentage')\n",
    "   \n",
    "    #g.set_title('Hit Percentage of 100MB data with N = 200')\n",
    "    \n",
    "    pdf.savefig(bbox_inches='tight')"
   ]
  },
  {
   "cell_type": "code",
   "execution_count": 42,
   "id": "severe-holder",
   "metadata": {
    "scrolled": true
   },
   "outputs": [
    {
     "ename": "KeyError",
     "evalue": "\"None of ['Query Number'] are in the columns\"",
     "output_type": "error",
     "traceback": [
      "\u001b[0;31m---------------------------------------------------------------------------\u001b[0m",
      "\u001b[0;31mKeyError\u001b[0m                                  Traceback (most recent call last)",
      "\u001b[0;32m/var/folders/3r/btstkrrx0g1314wjtkqwt2zw0000gn/T/ipykernel_66993/217333734.py\u001b[0m in \u001b[0;36m<module>\u001b[0;34m\u001b[0m\n\u001b[1;32m      1\u001b[0m \u001b[0;31m#Create the Time graph from the first data frame and save it to pdf file\u001b[0m\u001b[0;34m\u001b[0m\u001b[0;34m\u001b[0m\u001b[0;34m\u001b[0m\u001b[0m\n\u001b[1;32m      2\u001b[0m \u001b[0;32mwith\u001b[0m \u001b[0mPdfPages\u001b[0m\u001b[0;34m(\u001b[0m\u001b[0;34m'Time Graph 1GB 0.1p N = 200 no sorting.pdf'\u001b[0m\u001b[0;34m)\u001b[0m \u001b[0;32mas\u001b[0m \u001b[0mpdf\u001b[0m\u001b[0;34m:\u001b[0m\u001b[0;34m\u001b[0m\u001b[0;34m\u001b[0m\u001b[0m\n\u001b[0;32m----> 3\u001b[0;31m     \u001b[0myy\u001b[0m \u001b[0;34m=\u001b[0m \u001b[0mdf\u001b[0m\u001b[0;34m[\u001b[0m\u001b[0;34m[\u001b[0m\u001b[0;34m'File Access Time'\u001b[0m\u001b[0;34m,\u001b[0m \u001b[0;34m'Sampling Time'\u001b[0m\u001b[0;34m,\u001b[0m\u001b[0;34m'Bootstrap Time'\u001b[0m\u001b[0;34m]\u001b[0m\u001b[0;34m]\u001b[0m\u001b[0;34m.\u001b[0m\u001b[0mset_index\u001b[0m\u001b[0;34m(\u001b[0m\u001b[0;34m\"Query Number\"\u001b[0m\u001b[0;34m)\u001b[0m\u001b[0;34m.\u001b[0m\u001b[0mplot\u001b[0m\u001b[0;34m.\u001b[0m\u001b[0mbar\u001b[0m\u001b[0;34m(\u001b[0m \u001b[0mstacked\u001b[0m\u001b[0;34m=\u001b[0m\u001b[0;32mTrue\u001b[0m\u001b[0;34m,\u001b[0m \u001b[0mfigsize\u001b[0m \u001b[0;34m=\u001b[0m \u001b[0;34m(\u001b[0m\u001b[0;36m6\u001b[0m\u001b[0;34m,\u001b[0m\u001b[0;36m4\u001b[0m\u001b[0;34m)\u001b[0m\u001b[0;34m)\u001b[0m\u001b[0;34m\u001b[0m\u001b[0;34m\u001b[0m\u001b[0m\n\u001b[0m\u001b[1;32m      4\u001b[0m     \u001b[0mh\u001b[0m\u001b[0;34m,\u001b[0m\u001b[0ml\u001b[0m\u001b[0;34m=\u001b[0m \u001b[0myy\u001b[0m\u001b[0;34m.\u001b[0m\u001b[0mget_legend_handles_labels\u001b[0m\u001b[0;34m(\u001b[0m\u001b[0;34m)\u001b[0m\u001b[0;34m\u001b[0m\u001b[0;34m\u001b[0m\u001b[0m\n\u001b[1;32m      5\u001b[0m     \u001b[0mkw\u001b[0m \u001b[0;34m=\u001b[0m \u001b[0mdict\u001b[0m\u001b[0;34m(\u001b[0m\u001b[0mncol\u001b[0m\u001b[0;34m=\u001b[0m\u001b[0;36m2\u001b[0m\u001b[0;34m,\u001b[0m \u001b[0mloc\u001b[0m\u001b[0;34m=\u001b[0m\u001b[0;34m\"lower center\"\u001b[0m\u001b[0;34m,\u001b[0m \u001b[0mframeon\u001b[0m\u001b[0;34m=\u001b[0m\u001b[0;32mFalse\u001b[0m\u001b[0;34m)\u001b[0m\u001b[0;34m\u001b[0m\u001b[0;34m\u001b[0m\u001b[0m\n",
      "\u001b[0;32m/usr/local/lib/python3.9/site-packages/pandas/util/_decorators.py\u001b[0m in \u001b[0;36mwrapper\u001b[0;34m(*args, **kwargs)\u001b[0m\n\u001b[1;32m    309\u001b[0m                     \u001b[0mstacklevel\u001b[0m\u001b[0;34m=\u001b[0m\u001b[0mstacklevel\u001b[0m\u001b[0;34m,\u001b[0m\u001b[0;34m\u001b[0m\u001b[0;34m\u001b[0m\u001b[0m\n\u001b[1;32m    310\u001b[0m                 )\n\u001b[0;32m--> 311\u001b[0;31m             \u001b[0;32mreturn\u001b[0m \u001b[0mfunc\u001b[0m\u001b[0;34m(\u001b[0m\u001b[0;34m*\u001b[0m\u001b[0margs\u001b[0m\u001b[0;34m,\u001b[0m \u001b[0;34m**\u001b[0m\u001b[0mkwargs\u001b[0m\u001b[0;34m)\u001b[0m\u001b[0;34m\u001b[0m\u001b[0;34m\u001b[0m\u001b[0m\n\u001b[0m\u001b[1;32m    312\u001b[0m \u001b[0;34m\u001b[0m\u001b[0m\n\u001b[1;32m    313\u001b[0m         \u001b[0;32mreturn\u001b[0m \u001b[0mwrapper\u001b[0m\u001b[0;34m\u001b[0m\u001b[0;34m\u001b[0m\u001b[0m\n",
      "\u001b[0;32m/usr/local/lib/python3.9/site-packages/pandas/core/frame.py\u001b[0m in \u001b[0;36mset_index\u001b[0;34m(self, keys, drop, append, inplace, verify_integrity)\u001b[0m\n\u001b[1;32m   5444\u001b[0m \u001b[0;34m\u001b[0m\u001b[0m\n\u001b[1;32m   5445\u001b[0m         \u001b[0;32mif\u001b[0m \u001b[0mmissing\u001b[0m\u001b[0;34m:\u001b[0m\u001b[0;34m\u001b[0m\u001b[0;34m\u001b[0m\u001b[0m\n\u001b[0;32m-> 5446\u001b[0;31m             \u001b[0;32mraise\u001b[0m \u001b[0mKeyError\u001b[0m\u001b[0;34m(\u001b[0m\u001b[0;34mf\"None of {missing} are in the columns\"\u001b[0m\u001b[0;34m)\u001b[0m\u001b[0;34m\u001b[0m\u001b[0;34m\u001b[0m\u001b[0m\n\u001b[0m\u001b[1;32m   5447\u001b[0m \u001b[0;34m\u001b[0m\u001b[0m\n\u001b[1;32m   5448\u001b[0m         \u001b[0;32mif\u001b[0m \u001b[0minplace\u001b[0m\u001b[0;34m:\u001b[0m\u001b[0;34m\u001b[0m\u001b[0;34m\u001b[0m\u001b[0m\n",
      "\u001b[0;31mKeyError\u001b[0m: \"None of ['Query Number'] are in the columns\""
     ]
    }
   ],
   "source": [
    "#Create the Time graph from the first data frame and save it to pdf file\n",
    "with PdfPages('Time Graph 1GB 0.1p N = 200 no sorting.pdf') as pdf:\n",
    "    yy = df[['File Access Time', 'Sampling Time','Bootstrap Time']].plot.bar( stacked=True, figsize = (6,4))\n",
    "    h,l= yy.get_legend_handles_labels()\n",
    "    kw = dict(ncol=2, loc=\"lower center\", frameon=False) \n",
    "    leg1 = yy.legend(['File Access Time', 'Sampling Time'], bbox_to_anchor=[0.5,1.08],**kw)\n",
    "    leg2 = yy.legend(h[2:],['Bootstrap Time'], bbox_to_anchor=[0.5,1.00],**kw)\n",
    "    yy.add_artist(leg1)\n",
    "    yy.set_ylabel('Total Time (Second)',fontsize =15) \n",
    "\n",
    "    yy.set_xlabel('Query Number',fontsize =15)\n",
    "\n",
    "    #yy.set_title(\"1GB with 0.1% sampling ratio N =2000\", fontsize=20)\n",
    "    pdf.savefig(bbox_inches='tight')\n",
    "\n"
   ]
  },
  {
   "cell_type": "code",
   "execution_count": 33,
   "id": "north-morgan",
   "metadata": {},
   "outputs": [
    {
     "name": "stdout",
     "output_type": "stream",
     "text": [
      "   Query Number  Hit Percentage  File Access Time  Rand Num Gen Time  \\\n",
      "0             1           100.0             15.02              15.72   \n",
      "1             2            90.0             15.09              15.72   \n",
      "2             3           100.0             15.01              15.65   \n",
      "3             4           100.0             15.10              15.67   \n",
      "4             5            90.0             15.03              15.67   \n",
      "5             6           100.0             15.06              15.61   \n",
      "6             7           100.0             15.05              15.50   \n",
      "7             8            90.0             15.07              15.54   \n",
      "8             9           100.0             15.08              15.57   \n",
      "9            10            90.0             15.19              15.61   \n",
      "\n",
      "   Other Time  Sampling Time  Bootstrap Time  total time  \n",
      "0       69.32           4.97           15.72       35.71  \n",
      "1       64.36           4.71           15.72       35.52  \n",
      "2       64.29           4.63           15.65       35.29  \n",
      "3       78.38           5.86           15.67       36.63  \n",
      "4       83.53           6.52           15.67       37.22  \n",
      "5       74.08           5.57           15.61       36.24  \n",
      "6       68.79           5.07           15.50       35.62  \n",
      "7       76.62           5.80           15.54       36.41  \n",
      "8       75.59           5.72           15.57       36.37  \n",
      "9       64.04           4.73           15.61       35.53  \n",
      "   Query Number  Hit Percentage  File Access Time  Rand Num Gen Time  \\\n",
      "0             1           100.0              1.72               2.75   \n",
      "1             2           100.0              1.74               2.88   \n",
      "2             3            90.0              1.75               2.66   \n",
      "3             4           100.0              1.84               2.75   \n",
      "4             5           100.0              1.73               2.62   \n",
      "5             6            90.0              1.72               2.53   \n",
      "6             7            80.0              1.69               2.40   \n",
      "7             8            90.0              1.66               2.40   \n",
      "8             9            90.0              1.76               2.44   \n",
      "9            10           100.0              1.63               2.51   \n",
      "\n",
      "   Other Time  Sampling Time  Bootstrap Time  total time  \n",
      "0       55.59           5.06            2.75        9.53  \n",
      "1       51.92           4.49            2.88        9.11  \n",
      "2       52.00           4.55            2.66        8.96  \n",
      "3       65.18           5.95            2.75       10.54  \n",
      "4       69.25           6.45            2.62       10.80  \n",
      "5       61.14           5.55            2.53        9.80  \n",
      "6       56.20           5.07            2.40        9.16  \n",
      "7       64.08           5.70            2.40        9.76  \n",
      "8       61.90           5.59            2.44        9.79  \n",
      "9       51.20           4.67            2.51        8.81  \n"
     ]
    }
   ],
   "source": [
    "#create new field in dataframes for total time\n",
    "df['total time'] = df['File Access Time'] + df['Sampling Time']+ df['Bootstrap Time']\n",
    "df2['total time'] = df2['File Access Time'] + df2['Sampling Time']+ df2['Bootstrap Time']\n",
    "\n",
    "print(df)\n",
    "print(df2)\n",
    "\n"
   ]
  },
  {
   "cell_type": "code",
   "execution_count": 34,
   "id": "ecological-cylinder",
   "metadata": {},
   "outputs": [
    {
     "name": "stdout",
     "output_type": "stream",
     "text": [
      "   File Access Time  Sampling Time  Bootstrap Time  total time\n",
      "0          8.732558       0.982213        5.716364    3.747114\n",
      "1          8.672414       1.048998        5.458333    3.899012\n",
      "2          8.577143       1.017582        5.883459    3.938616\n",
      "3          8.206522       0.984874        5.698182    3.475332\n",
      "4          8.687861       1.010853        5.980916    3.446296\n",
      "5          8.755814       1.003604        6.169960    3.697959\n",
      "6          8.905325       1.000000        6.458333    3.888646\n",
      "7          9.078313       1.017544        6.475000    3.730533\n",
      "8          8.568182       1.023256        6.381148    3.715015\n",
      "9          9.319018       1.012848        6.219124    4.032917\n"
     ]
    }
   ],
   "source": [
    "#create new Dataframe with the selected attributes to draw performance increase ratio graph\n",
    "timedf = df.div(df2)\n",
    "\n",
    "newdf = timedf[['File Access Time', 'Sampling Time', 'Bootstrap Time','total time']].copy()\n",
    "\n",
    "print(newdf)"
   ]
  },
  {
   "cell_type": "code",
   "execution_count": 35,
   "id": "municipal-trigger",
   "metadata": {},
   "outputs": [
    {
     "data": {
      "image/png": "[encoded data removed]",
      "text/plain": [
       "<Figure size 432x288 with 1 Axes>"
      ]
     },
     "metadata": {
      "needs_background": "light"
     },
     "output_type": "display_data"
    }
   ],
   "source": [
    "#Draw Bootstrap time Perfomance increase Graph and save it to pdf file \n",
    "with PdfPages('Bootstrap time Perfomance increase of 1GB data 1p.pdf') as pdf:\n",
    "    graph = newdf[\"Bootstrap Time\"].plot.bar( figsize=(6, 4), color = 'C2')\n",
    "    graph.set_xlabel('Query Number',fontsize =15)\n",
    "    graph.set_ylabel('speedup ratio',fontsize =15)\n",
    "    for i, v in enumerate(newdf[\"Bootstrap Time\"]):\n",
    "        graph.text(i-.3 , v+0.01 , '%.2f' % float(v))\n",
    "    pdf.savefig(bbox_inches='tight')\n",
    "    "
   ]
  },
  {
   "cell_type": "markdown",
   "id": "usual-digest",
   "metadata": {},
   "source": [
    "with PdfPages('Total Perfomance increase of 1GB data.pdf') as pdf:\n",
    "    graph = new[\"total time\"].plot.bar( figsize=(6, 4))\n",
    "    graph.set_xlabel('Query Number',fontsize =15)\n",
    "    graph.set_ylabel('speed ratio',fontsize =15)\n",
    "    for i, v in enumerate(new[\"Bootstrap Time\"]):\n",
    "        graph.text(i-.3 , v+0.01 , '%.2f' % float(v))\n",
    "    pdf.savefig(bbox_inches='tight')"
   ]
  },
  {
   "cell_type": "code",
   "execution_count": 12,
   "id": "adolescent-modern",
   "metadata": {},
   "outputs": [
    {
     "data": {
      "image/png": "[encoded data removed]",
      "text/plain": [
       "<Figure size 432x288 with 1 Axes>"
      ]
     },
     "metadata": {
      "needs_background": "light"
     },
     "output_type": "display_data"
    }
   ],
   "source": [
    "#Draw Total time Perfomance increase Graph and save it to pdf file\n",
    "with PdfPages('Total time Perfomance increase of 1GB data 1p.pdf') as pdf:\n",
    "    gr = newdf['total time'].plot.bar( figsize=(6, 4))\n",
    "    gr.set_xlabel('Query Number',fontsize =15)\n",
    "    gr.set_ylabel('speed ratio',fontsize =15)\n",
    "    for f, j in enumerate(newdf['total time']):\n",
    "        gr.text(f-.3 , j+0.01 , '%.2f' % float(j))\n",
    "    pdf.savefig(bbox_inches='tight')"
   ]
  },
  {
   "cell_type": "code",
   "execution_count": null,
   "id": "operational-architecture",
   "metadata": {},
   "outputs": [],
   "source": []
  }
 ],
 "metadata": {
  "kernelspec": {
   "display_name": "Python 3 (ipykernel)",
   "language": "python",
   "name": "python3"
  },
  "language_info": {
   "codemirror_mode": {
    "name": "ipython",
    "version": 3
   },
   "file_extension": ".py",
   "mimetype": "text/x-python",
   "name": "python",
   "nbconvert_exporter": "python",
   "pygments_lexer": "ipython3",
   "version": "3.9.6"
  }
 },
 "nbformat": 4,
 "nbformat_minor": 5
}
