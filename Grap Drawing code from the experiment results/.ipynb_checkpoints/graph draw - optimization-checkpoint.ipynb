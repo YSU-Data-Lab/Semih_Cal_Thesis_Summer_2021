{
 "cells": [
  {
   "cell_type": "code",
   "execution_count": 43,
   "id": "1c2b7a9d",
   "metadata": {},
   "outputs": [],
   "source": [
    "import pandas as pd\n",
    "import matplotlib.pyplot as plt\n",
    "from matplotlib.backends.backend_pdf import PdfPages\n",
    "import csv\n",
    "import numpy as np"
   ]
  },
  {
   "cell_type": "code",
   "execution_count": 44,
   "id": "3916fe4b",
   "metadata": {},
   "outputs": [],
   "source": [
    "p=0.1\n",
    "log_file_1g='../Experiment Results BS N =200/{}%_1GB Logs.csv'.format(p)\n",
    "log_file_1g_ns='../Experiment Results BD N = 200 no sorting/{}%_1GB Logs.csv'.format(p)"
   ]
  },
  {
   "cell_type": "code",
   "execution_count": 45,
   "id": "16f1c5db",
   "metadata": {},
   "outputs": [
    {
     "name": "stdout",
     "output_type": "stream",
     "text": [
      "[[1, 90.0, 7.11, 7.42, 60.93, 5.02, 7.42], [2, 100.0, 7.12, 7.44, 56.59, 4.7, 7.44], [3, 100.0, 7.1, 7.4, 56.36, 4.6, 7.41], [4, 100.0, 7.02, 7.41, 69.44, 5.91, 7.41], [5, 90.0, 6.95, 7.39, 74.72, 6.31, 7.39], [6, 100.0, 7.03, 7.4, 65.33, 5.45, 7.4], [7, 100.0, 7.12, 7.34, 60.79, 5.07, 7.34], [8, 90.0, 7.04, 7.31, 68.47, 5.91, 7.33], [9, 90.0, 7.1, 7.36, 67.22, 5.73, 7.36], [10, 100.0, 7.04, 7.38, 55.78, 4.45, 7.39]]\n"
     ]
    }
   ],
   "source": [
    "hit = 0\n",
    "hitlist=[]\n",
    "data =[]\n",
    "FA = 0\n",
    "Rand = 0\n",
    "Total = 0\n",
    "Sample_time = 0\n",
    "Bootstrap_time =0\n",
    "#open the data logs from the experiment\n",
    "with open(log_file_1g, 'r') as file: # B=200\n",
    "    reader = csv.reader(file)\n",
    "    for row in reader:\n",
    "        data.append(row)\n",
    "    chunks = [data[x:x+10] for x in range(1, len(data), 10)]\n",
    "#calculation of necessary fields for drawing the graphs\n",
    "    for a in range(0,10):\n",
    "        hitlist.append([])\n",
    "        for b in range(0,10):\n",
    "            if chunks[a][b][12]=='1':\n",
    "                hit +=1\n",
    "            \n",
    "            FA += float(chunks[a][b][7])\n",
    "            Rand += float(chunks[a][b][8])\n",
    "            Total += float(chunks[a][b][9])\n",
    "            Sample_time =+ float(chunks[a][b][10])\n",
    "            Bootstrap_time += float(chunks[a][b][11])\n",
    "        \n",
    "        hit = hit*100/10\n",
    "        hitlist[a].append(int(chunks[a][b][1]))      \n",
    "        hitlist[a].append(hit)\n",
    "        hitlist[a].append(round(FA,2)) \n",
    "        hitlist[a].append(round(Rand,2)) \n",
    "        hitlist[a].append(round(Total,2))\n",
    "        hitlist[a].append(round(Sample_time,2))\n",
    "        hitlist[a].append(round(Bootstrap_time,2))\n",
    "        hit =0\n",
    "        FA=0\n",
    "        Rand =0\n",
    "        Total=0\n",
    "        Sample_time=0\n",
    "        Bootstrap_time=0\n",
    "    print(hitlist)\n",
    "#put the result in to csv file\n",
    "fields=[\"Query Number\", \"Hit Percentage\", \"File Access Time\", \"Rand Num Gen Time\", \"Other Time\", \"Sampling Time\", \"Bootstrap Time\" ]\n",
    "with open('graphlogs.csv', 'w+', newline='') as file:\n",
    "    writer = csv.writer(file, delimiter =',')\n",
    "    writer.writerow(fields)\n",
    "    for l in range(0,len(hitlist)):\n",
    "        writer.writerow(hitlist[l])"
   ]
  },
  {
   "cell_type": "code",
   "execution_count": 46,
   "id": "e5f2a77b",
   "metadata": {},
   "outputs": [
    {
     "name": "stdout",
     "output_type": "stream",
     "text": [
      "[[1, 100.0, 0.85, 1.38, 54.63, 4.91, 1.38], [2, 80.0, 0.86, 1.38, 49.78, 4.7, 1.39], [3, 100.0, 0.81, 1.29, 50.37, 4.73, 1.29], [4, 100.0, 0.9, 1.32, 63.71, 5.84, 1.32], [5, 90.0, 0.86, 1.28, 67.76, 6.34, 1.28], [6, 90.0, 0.84, 1.24, 58.8, 5.55, 1.24], [7, 90.0, 0.89, 1.2, 54.49, 5.07, 1.2], [8, 70.0, 0.92, 1.19, 61.88, 6.0, 1.19], [9, 90.0, 0.83, 1.19, 60.51, 5.71, 1.19], [10, 90.0, 0.85, 1.25, 50.17, 4.5, 1.25]]\n"
     ]
    }
   ],
   "source": [
    "#This part is for the second data logs file\n",
    "hit = 0\n",
    "hitlist=[]\n",
    "data =[]\n",
    "FA = 0\n",
    "Rand = 0\n",
    "Total = 0\n",
    "Sample_time = 0\n",
    "Bootstrap_time =0\n",
    "with open(log_file_1g_ns, 'r') as file:\n",
    "    reader = csv.reader(file)\n",
    "    for row in reader:\n",
    "        data.append(row)\n",
    "\n",
    "    \n",
    "    chunks = [data[x:x+10] for x in range(1, len(data), 10)]\n",
    "    \n",
    "    for a in range(0,10):\n",
    "        hitlist.append([])\n",
    "        for b in range(0,10):\n",
    "            if chunks[a][b][12]=='1':\n",
    "                hit +=1\n",
    "            \n",
    "            FA += float(chunks[a][b][7])\n",
    "            Rand += float(chunks[a][b][8])\n",
    "            Total += float(chunks[a][b][9])\n",
    "            Sample_time =+ float(chunks[a][b][10])\n",
    "            Bootstrap_time += float(chunks[a][b][11])\n",
    "        \n",
    "        hit = hit*100/10\n",
    "        hitlist[a].append(int(chunks[a][b][1]))      \n",
    "        hitlist[a].append(hit)\n",
    "        hitlist[a].append(round(FA,2)) \n",
    "        hitlist[a].append(round(Rand,2)) \n",
    "        hitlist[a].append(round(Total,2))\n",
    "        hitlist[a].append(round(Sample_time,2))\n",
    "        hitlist[a].append(round(Bootstrap_time,2))\n",
    "        hit =0\n",
    "        FA=0\n",
    "        Rand =0\n",
    "        Total=0\n",
    "        Sample_time=0\n",
    "        Bootstrap_time=0\n",
    "    print(hitlist)\n",
    "fields=[\"Query Number\", \"Hit Percentage\", \"File Access Time\", \"Rand Num Gen Time\", \"Other Time\", \"Sampling Time\", \"Bootstrap Time\" ]\n",
    "with open('graphlogs2.csv', 'w+', newline='') as file:\n",
    "    writer = csv.writer(file, delimiter =',')\n",
    "    writer.writerow(fields)\n",
    "    for l in range(0,len(hitlist)):\n",
    "        writer.writerow(hitlist[l])"
   ]
  },
  {
   "cell_type": "code",
   "execution_count": 47,
   "id": "95d61570",
   "metadata": {},
   "outputs": [
    {
     "name": "stdout",
     "output_type": "stream",
     "text": [
      "   File Access Time  Sampling Time  Bootstrap Time  total time\n",
      "0          8.364706       1.022403        5.376812    2.738095\n",
      "1          8.279070       1.000000        5.352518    2.771223\n",
      "2          8.765432       0.972516        5.744186    2.797950\n",
      "3          7.800000       1.011986        5.613636    2.523573\n",
      "4          8.081395       0.995268        5.773438    2.435142\n",
      "5          8.369048       0.981982        5.967742    2.605505\n",
      "6          8.000000       1.000000        6.116667    2.727654\n",
      "7          7.652174       0.985000        6.159664    2.500617\n",
      "8          8.554217       1.003503        6.184874    2.611902\n",
      "9          8.282353       0.988889        5.912000    2.860606\n"
     ]
    }
   ],
   "source": [
    "df = pd.read_csv ('graphlogs.csv')\n",
    "df2 = pd.read_csv ('graphlogs2.csv')\n",
    "df['total time'] = df['File Access Time'] + df['Sampling Time']+ df['Bootstrap Time']\n",
    "df2['total time'] = df2['File Access Time'] + df2['Sampling Time']+ df2['Bootstrap Time']\n",
    "timedf = df.div(df2)\n",
    "newdf = timedf[['File Access Time', 'Sampling Time', 'Bootstrap Time','total time']].copy()\n",
    "print(newdf)"
   ]
  },
  {
   "cell_type": "code",
   "execution_count": 48,
   "id": "0e906df5",
   "metadata": {},
   "outputs": [
    {
     "data": {
      "image/png": "[encoded data removed]",
      "text/plain": [
       "<Figure size 432x288 with 1 Axes>"
      ]
     },
     "metadata": {
      "needs_background": "light"
     },
     "output_type": "display_data"
    }
   ],
   "source": [
    "bs_figure_file_name='Bootstrap time Perfomance increase of 1GB data {}p.pdf'.format(p)\n",
    "with PdfPages(bs_figure_file_name) as pdf:\n",
    "    graph = newdf[\"Bootstrap Time\"].plot.bar( figsize=(6, 4), color = 'C2')\n",
    "    graph.set_xlabel('query number',fontsize =15)\n",
    "    graph.set_ylabel('speedup ratio',fontsize =15)\n",
    "    for i, v in enumerate(newdf[\"Bootstrap Time\"]):\n",
    "        graph.text(i-.3 , v+0.01 , '%.2f' % float(v))\n",
    "    plt.xticks(rotation=0)\n",
    "    graph.set_xticklabels(np.arange(1,11))\n",
    "    pdf.savefig(bbox_inches='tight')\n",
    "    \n",
    "    "
   ]
  },
  {
   "cell_type": "code",
   "execution_count": 49,
   "id": "eb9c7d48",
   "metadata": {},
   "outputs": [
    {
     "data": {
      "image/png": "[encoded data removed]",
      "text/plain": [
       "<Figure size 432x288 with 1 Axes>"
      ]
     },
     "metadata": {
      "needs_background": "light"
     },
     "output_type": "display_data"
    }
   ],
   "source": [
    "total_figure_file_name='Total time Perfomance increase of 1GB data {}p.pdf'.format(p)\n",
    "with PdfPages(total_figure_file_name) as pdf:\n",
    "    gr = newdf['total time'].plot.bar( figsize=(6, 4))\n",
    "    gr.set_xlabel('query number',fontsize =15)\n",
    "    gr.set_ylabel('speedup ratio',fontsize =15)\n",
    "    for f, j in enumerate(newdf['total time']):\n",
    "        gr.text(f-.3 , j+0.01 , '%.2f' % float(j))\n",
    "    gr.set_xticklabels(np.arange(1,11))\n",
    "    plt.xticks(rotation=0)\n",
    "    pdf.savefig(bbox_inches='tight')"
   ]
  },
  {
   "cell_type": "code",
   "execution_count": null,
   "id": "9c4df704",
   "metadata": {},
   "outputs": [],
   "source": []
  }
 ],
 "metadata": {
  "kernelspec": {
   "display_name": "Python 3 (ipykernel)",
   "language": "python",
   "name": "python3"
  },
  "language_info": {
   "codemirror_mode": {
    "name": "ipython",
    "version": 3
   },
   "file_extension": ".py",
   "mimetype": "text/x-python",
   "name": "python",
   "nbconvert_exporter": "python",
   "pygments_lexer": "ipython3",
   "version": "3.9.6"
  }
 },
 "nbformat": 4,
 "nbformat_minor": 5
}
